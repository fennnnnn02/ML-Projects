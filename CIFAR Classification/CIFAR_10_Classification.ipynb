{
  "nbformat": 4,
  "nbformat_minor": 0,
  "metadata": {
    "colab": {
      "name": "CIFAR 10 Classification.ipynb",
      "provenance": []
    },
    "kernelspec": {
      "name": "python3",
      "display_name": "Python 3"
    },
    "language_info": {
      "name": "python"
    },
    "accelerator": "GPU",
    "gpuClass": "standard"
  },
  "cells": [
    {
      "cell_type": "code",
      "execution_count": 1,
      "metadata": {
        "id": "cGs9MMg8zKCt"
      },
      "outputs": [],
      "source": [
        "import tensorflow as tf\n",
        "import numpy as np\n",
        "import matplotlib.pyplot as plt\n",
        "from tensorflow.keras.layers import Conv2D, Dense, Flatten, Dropout\n",
        "from tensorflow.keras.layers import MaxPooling2D, BatchNormalization\n",
        "from tensorflow.keras.models import Model as Model"
      ]
    },
    {
      "cell_type": "code",
      "source": [
        "cifar = tf.keras.datasets.cifar10\n",
        "\n",
        "(x_train, y_train), (x_test, y_test) = cifar.load_data()\n",
        "print(x_train.shape, y_train.shape, x_test.shape, y_test.shape)"
      ],
      "metadata": {
        "colab": {
          "base_uri": "https://localhost:8080/"
        },
        "id": "BHP589bL0wlk",
        "outputId": "08606fbc-9feb-4d3a-e4ad-bfc98d730081"
      },
      "execution_count": 2,
      "outputs": [
        {
          "output_type": "stream",
          "name": "stdout",
          "text": [
            "Downloading data from https://www.cs.toronto.edu/~kriz/cifar-10-python.tar.gz\n",
            "170500096/170498071 [==============================] - 2s 0us/step\n",
            "170508288/170498071 [==============================] - 2s 0us/step\n",
            "(50000, 32, 32, 3) (50000, 1) (10000, 32, 32, 3) (10000, 1)\n"
          ]
        }
      ]
    },
    {
      "cell_type": "code",
      "source": [
        "print(x_train[1])"
      ],
      "metadata": {
        "colab": {
          "base_uri": "https://localhost:8080/"
        },
        "id": "p7d9TABt1YRL",
        "outputId": "000436f4-9137-4712-8318-07e432e407f2"
      },
      "execution_count": 3,
      "outputs": [
        {
          "output_type": "stream",
          "name": "stdout",
          "text": [
            "[[[154 177 187]\n",
            "  [126 137 136]\n",
            "  [105 104  95]\n",
            "  ...\n",
            "  [ 91  95  71]\n",
            "  [ 87  90  71]\n",
            "  [ 79  81  70]]\n",
            "\n",
            " [[140 160 169]\n",
            "  [145 153 154]\n",
            "  [125 125 118]\n",
            "  ...\n",
            "  [ 96  99  78]\n",
            "  [ 77  80  62]\n",
            "  [ 71  73  61]]\n",
            "\n",
            " [[140 155 164]\n",
            "  [139 146 149]\n",
            "  [115 115 112]\n",
            "  ...\n",
            "  [ 79  82  64]\n",
            "  [ 68  70  55]\n",
            "  [ 67  69  55]]\n",
            "\n",
            " ...\n",
            "\n",
            " [[175 167 166]\n",
            "  [156 154 160]\n",
            "  [154 160 170]\n",
            "  ...\n",
            "  [ 42  34  36]\n",
            "  [ 61  53  57]\n",
            "  [ 93  83  91]]\n",
            "\n",
            " [[165 154 128]\n",
            "  [156 152 130]\n",
            "  [159 161 142]\n",
            "  ...\n",
            "  [103  93  96]\n",
            "  [123 114 120]\n",
            "  [131 121 131]]\n",
            "\n",
            " [[163 148 120]\n",
            "  [158 148 122]\n",
            "  [163 156 133]\n",
            "  ...\n",
            "  [143 133 139]\n",
            "  [143 134 142]\n",
            "  [143 133 144]]]\n"
          ]
        }
      ]
    },
    {
      "cell_type": "code",
      "source": [
        "x_train, x_test = x_train/255.0, x_test/255.0\n",
        "y_train, y_test = y_train.flatten(), y_test.flatten()"
      ],
      "metadata": {
        "id": "7eU9LqAB2PU1"
      },
      "execution_count": 4,
      "outputs": []
    },
    {
      "cell_type": "code",
      "source": [
        "print(y_train.shape)"
      ],
      "metadata": {
        "colab": {
          "base_uri": "https://localhost:8080/"
        },
        "id": "fjODtazg2aCy",
        "outputId": "308cfbd6-64b5-4c96-e434-c7aac930b1e4"
      },
      "execution_count": 5,
      "outputs": [
        {
          "output_type": "stream",
          "name": "stdout",
          "text": [
            "(50000,)\n"
          ]
        }
      ]
    },
    {
      "cell_type": "code",
      "source": [
        "plt.imshow(x_train[1])"
      ],
      "metadata": {
        "colab": {
          "base_uri": "https://localhost:8080/",
          "height": 283
        },
        "id": "kPlbPK8H2btV",
        "outputId": "778dafc0-71c8-4361-b1c8-cda6f0c3da76"
      },
      "execution_count": 6,
      "outputs": [
        {
          "output_type": "execute_result",
          "data": {
            "text/plain": [
              "<matplotlib.image.AxesImage at 0x7f9377b193d0>"
            ]
          },
          "metadata": {},
          "execution_count": 6
        },
        {
          "output_type": "display_data",
          "data": {
            "text/plain": [
              "<Figure size 432x288 with 1 Axes>"
            ],
            "image/png": "[encoded data removed]"
          },
          "metadata": {
            "needs_background": "light"
          }
        }
      ]
    },
    {
      "cell_type": "code",
      "source": [
        "#number of classes\n",
        "n = len(set(y_train))\n",
        "\n",
        "print(\"Total number of classes: \",n)\n",
        "\n",
        "model = tf.keras.models.Sequential([\n",
        "    Conv2D(32,(3,3),activation='relu',padding='same',input_shape=x_train[0].shape),\n",
        "    BatchNormalization(),\n",
        "    Conv2D(32,(3,3),activation='relu',padding='same'),\n",
        "    BatchNormalization(),\n",
        "    MaxPooling2D((2,2)),\n",
        "\n",
        "    Conv2D(64,(3,3),activation='relu',padding='same'),\n",
        "    BatchNormalization(),\n",
        "    Conv2D(64,(3,3),activation='relu',padding='same'),\n",
        "    BatchNormalization(),\n",
        "    MaxPooling2D((2,2)),\n",
        "\n",
        "    Conv2D(128,(3,3),activation='relu',padding='same'),\n",
        "    BatchNormalization(),\n",
        "    Conv2D(128,(3,3),activation='relu',padding='same'),\n",
        "    BatchNormalization(),\n",
        "    MaxPooling2D((2,2)),\n",
        "\n",
        "    Flatten(),\n",
        "    Dropout(0.2),\n",
        "    Dense(1024,activation='relu'),\n",
        "    Dropout(0.2),\n",
        "    Dense(n,activation='softmax'),\n",
        "])\n",
        "\n",
        "model.summary()"
      ],
      "metadata": {
        "colab": {
          "base_uri": "https://localhost:8080/"
        },
        "id": "FFYig3sB3mDp",
        "outputId": "a15c7033-15c4-4d59-ec79-35356d4cb515"
      },
      "execution_count": 7,
      "outputs": [
        {
          "output_type": "stream",
          "name": "stdout",
          "text": [
            "Total number of classes:  10\n",
            "Model: \"sequential\"\n",
            "_________________________________________________________________\n",
            " Layer (type)                Output Shape              Param #   \n",
            "=================================================================\n",
            " conv2d (Conv2D)             (None, 32, 32, 32)        896       \n",
            "                                                                 \n",
            " batch_normalization (BatchN  (None, 32, 32, 32)       128       \n",
            " ormalization)                                                   \n",
            "                                                                 \n",
            " conv2d_1 (Conv2D)           (None, 32, 32, 32)        9248      \n",
            "                                                                 \n",
            " batch_normalization_1 (Batc  (None, 32, 32, 32)       128       \n",
            " hNormalization)                                                 \n",
            "                                                                 \n",
            " max_pooling2d (MaxPooling2D  (None, 16, 16, 32)       0         \n",
            " )                                                               \n",
            "                                                                 \n",
            " conv2d_2 (Conv2D)           (None, 16, 16, 64)        18496     \n",
            "                                                                 \n",
            " batch_normalization_2 (Batc  (None, 16, 16, 64)       256       \n",
            " hNormalization)                                                 \n",
            "                                                                 \n",
            " conv2d_3 (Conv2D)           (None, 16, 16, 64)        36928     \n",
            "                                                                 \n",
            " batch_normalization_3 (Batc  (None, 16, 16, 64)       256       \n",
            " hNormalization)                                                 \n",
            "                                                                 \n",
            " max_pooling2d_1 (MaxPooling  (None, 8, 8, 64)         0         \n",
            " 2D)                                                             \n",
            "                                                                 \n",
            " conv2d_4 (Conv2D)           (None, 8, 8, 128)         73856     \n",
            "                                                                 \n",
            " batch_normalization_4 (Batc  (None, 8, 8, 128)        512       \n",
            " hNormalization)                                                 \n",
            "                                                                 \n",
            " conv2d_5 (Conv2D)           (None, 8, 8, 128)         147584    \n",
            "                                                                 \n",
            " batch_normalization_5 (Batc  (None, 8, 8, 128)        512       \n",
            " hNormalization)                                                 \n",
            "                                                                 \n",
            " max_pooling2d_2 (MaxPooling  (None, 4, 4, 128)        0         \n",
            " 2D)                                                             \n",
            "                                                                 \n",
            " flatten (Flatten)           (None, 2048)              0         \n",
            "                                                                 \n",
            " dropout (Dropout)           (None, 2048)              0         \n",
            "                                                                 \n",
            " dense (Dense)               (None, 1024)              2098176   \n",
            "                                                                 \n",
            " dropout_1 (Dropout)         (None, 1024)              0         \n",
            "                                                                 \n",
            " dense_1 (Dense)             (None, 10)                10250     \n",
            "                                                                 \n",
            "=================================================================\n",
            "Total params: 2,397,226\n",
            "Trainable params: 2,396,330\n",
            "Non-trainable params: 896\n",
            "_________________________________________________________________\n"
          ]
        }
      ]
    },
    {
      "cell_type": "code",
      "source": [
        "model.compile(optimizer='adam',loss='sparse_categorical_crossentropy',metrics=['accuracy'])"
      ],
      "metadata": {
        "id": "YrlBmW5q8UYG"
      },
      "execution_count": 8,
      "outputs": []
    },
    {
      "cell_type": "code",
      "source": [
        "fit = model.fit(x_train,y_train,validation_data=(x_test,y_test),epochs=50)"
      ],
      "metadata": {
        "colab": {
          "base_uri": "https://localhost:8080/"
        },
        "id": "j0-CxdH89th5",
        "outputId": "7f823b31-d228-46cc-cd92-4e20b0fdce1e"
      },
      "execution_count": 9,
      "outputs": [
        {
          "output_type": "stream",
          "name": "stdout",
          "text": [
            "Epoch 1/50\n",
            "1563/1563 [==============================] - 23s 7ms/step - loss: 1.2847 - accuracy: 0.5537 - val_loss: 1.1295 - val_accuracy: 0.6105\n",
            "Epoch 2/50\n",
            "1563/1563 [==============================] - 11s 7ms/step - loss: 0.8461 - accuracy: 0.7061 - val_loss: 0.8200 - val_accuracy: 0.7241\n",
            "Epoch 3/50\n",
            "1563/1563 [==============================] - 11s 7ms/step - loss: 0.6912 - accuracy: 0.7620 - val_loss: 0.8266 - val_accuracy: 0.7180\n",
            "Epoch 4/50\n",
            "1563/1563 [==============================] - 11s 7ms/step - loss: 0.5838 - accuracy: 0.8013 - val_loss: 0.8098 - val_accuracy: 0.7381\n",
            "Epoch 5/50\n",
            "1563/1563 [==============================] - 11s 7ms/step - loss: 0.4941 - accuracy: 0.8295 - val_loss: 0.5998 - val_accuracy: 0.8025\n",
            "Epoch 6/50\n",
            "1563/1563 [==============================] - 10s 7ms/step - loss: 0.4156 - accuracy: 0.8569 - val_loss: 0.7186 - val_accuracy: 0.7814\n",
            "Epoch 7/50\n",
            "1563/1563 [==============================] - 10s 7ms/step - loss: 0.3532 - accuracy: 0.8783 - val_loss: 0.6508 - val_accuracy: 0.8027\n",
            "Epoch 8/50\n",
            "1563/1563 [==============================] - 10s 7ms/step - loss: 0.3024 - accuracy: 0.8962 - val_loss: 0.7231 - val_accuracy: 0.7899\n",
            "Epoch 9/50\n",
            "1563/1563 [==============================] - 10s 7ms/step - loss: 0.2567 - accuracy: 0.9108 - val_loss: 0.6770 - val_accuracy: 0.8097\n",
            "Epoch 10/50\n",
            "1563/1563 [==============================] - 11s 7ms/step - loss: 0.2159 - accuracy: 0.9261 - val_loss: 0.6124 - val_accuracy: 0.8266\n",
            "Epoch 11/50\n",
            "1563/1563 [==============================] - 10s 7ms/step - loss: 0.1949 - accuracy: 0.9342 - val_loss: 0.7375 - val_accuracy: 0.8152\n",
            "Epoch 12/50\n",
            "1563/1563 [==============================] - 10s 7ms/step - loss: 0.1780 - accuracy: 0.9397 - val_loss: 0.5995 - val_accuracy: 0.8313\n",
            "Epoch 13/50\n",
            "1563/1563 [==============================] - 11s 7ms/step - loss: 0.1566 - accuracy: 0.9472 - val_loss: 0.6745 - val_accuracy: 0.8294\n",
            "Epoch 14/50\n",
            "1563/1563 [==============================] - 10s 7ms/step - loss: 0.1400 - accuracy: 0.9523 - val_loss: 0.7368 - val_accuracy: 0.8274\n",
            "Epoch 15/50\n",
            "1563/1563 [==============================] - 10s 7ms/step - loss: 0.1341 - accuracy: 0.9542 - val_loss: 0.7198 - val_accuracy: 0.8317\n",
            "Epoch 16/50\n",
            "1563/1563 [==============================] - 11s 7ms/step - loss: 0.1194 - accuracy: 0.9600 - val_loss: 0.7272 - val_accuracy: 0.8295\n",
            "Epoch 17/50\n",
            "1563/1563 [==============================] - 11s 7ms/step - loss: 0.1144 - accuracy: 0.9618 - val_loss: 0.7891 - val_accuracy: 0.8299\n",
            "Epoch 18/50\n",
            "1563/1563 [==============================] - 11s 7ms/step - loss: 0.1110 - accuracy: 0.9630 - val_loss: 0.7528 - val_accuracy: 0.8189\n",
            "Epoch 19/50\n",
            "1563/1563 [==============================] - 11s 7ms/step - loss: 0.1008 - accuracy: 0.9668 - val_loss: 0.8374 - val_accuracy: 0.8223\n",
            "Epoch 20/50\n",
            "1563/1563 [==============================] - 11s 7ms/step - loss: 0.0943 - accuracy: 0.9689 - val_loss: 0.8108 - val_accuracy: 0.8195\n",
            "Epoch 21/50\n",
            "1563/1563 [==============================] - 11s 7ms/step - loss: 0.0877 - accuracy: 0.9714 - val_loss: 0.8543 - val_accuracy: 0.8269\n",
            "Epoch 22/50\n",
            "1563/1563 [==============================] - 11s 7ms/step - loss: 0.0868 - accuracy: 0.9711 - val_loss: 0.6870 - val_accuracy: 0.8366\n",
            "Epoch 23/50\n",
            "1563/1563 [==============================] - 11s 7ms/step - loss: 0.0836 - accuracy: 0.9724 - val_loss: 0.8059 - val_accuracy: 0.8259\n",
            "Epoch 24/50\n",
            "1563/1563 [==============================] - 11s 7ms/step - loss: 0.0806 - accuracy: 0.9740 - val_loss: 0.8438 - val_accuracy: 0.8303\n",
            "Epoch 25/50\n",
            "1563/1563 [==============================] - 11s 7ms/step - loss: 0.0757 - accuracy: 0.9747 - val_loss: 0.7309 - val_accuracy: 0.8414\n",
            "Epoch 26/50\n",
            "1563/1563 [==============================] - 11s 7ms/step - loss: 0.0715 - accuracy: 0.9766 - val_loss: 0.8367 - val_accuracy: 0.8235\n",
            "Epoch 27/50\n",
            "1563/1563 [==============================] - 11s 7ms/step - loss: 0.0685 - accuracy: 0.9778 - val_loss: 0.7750 - val_accuracy: 0.8373\n",
            "Epoch 28/50\n",
            "1563/1563 [==============================] - 11s 7ms/step - loss: 0.0699 - accuracy: 0.9785 - val_loss: 0.7964 - val_accuracy: 0.8339\n",
            "Epoch 29/50\n",
            "1563/1563 [==============================] - 11s 7ms/step - loss: 0.0639 - accuracy: 0.9787 - val_loss: 0.8201 - val_accuracy: 0.8400\n",
            "Epoch 30/50\n",
            "1563/1563 [==============================] - 11s 7ms/step - loss: 0.0623 - accuracy: 0.9793 - val_loss: 0.8252 - val_accuracy: 0.8350\n",
            "Epoch 31/50\n",
            "1563/1563 [==============================] - 11s 7ms/step - loss: 0.0619 - accuracy: 0.9802 - val_loss: 0.8682 - val_accuracy: 0.8231\n",
            "Epoch 32/50\n",
            "1563/1563 [==============================] - 11s 7ms/step - loss: 0.0580 - accuracy: 0.9812 - val_loss: 0.7684 - val_accuracy: 0.8376\n",
            "Epoch 33/50\n",
            "1563/1563 [==============================] - 11s 7ms/step - loss: 0.0538 - accuracy: 0.9824 - val_loss: 0.8540 - val_accuracy: 0.8414\n",
            "Epoch 34/50\n",
            "1563/1563 [==============================] - 11s 7ms/step - loss: 0.0599 - accuracy: 0.9807 - val_loss: 0.7568 - val_accuracy: 0.8354\n",
            "Epoch 35/50\n",
            "1563/1563 [==============================] - 11s 7ms/step - loss: 0.0510 - accuracy: 0.9835 - val_loss: 0.8080 - val_accuracy: 0.8333\n",
            "Epoch 36/50\n",
            "1563/1563 [==============================] - 11s 7ms/step - loss: 0.0497 - accuracy: 0.9840 - val_loss: 0.8881 - val_accuracy: 0.8392\n",
            "Epoch 37/50\n",
            "1563/1563 [==============================] - 11s 7ms/step - loss: 0.0490 - accuracy: 0.9844 - val_loss: 0.8509 - val_accuracy: 0.8357\n",
            "Epoch 38/50\n",
            "1563/1563 [==============================] - 11s 7ms/step - loss: 0.0540 - accuracy: 0.9837 - val_loss: 0.9204 - val_accuracy: 0.8414\n",
            "Epoch 39/50\n",
            "1563/1563 [==============================] - 10s 7ms/step - loss: 0.0532 - accuracy: 0.9830 - val_loss: 0.8786 - val_accuracy: 0.8349\n",
            "Epoch 40/50\n",
            "1563/1563 [==============================] - 11s 7ms/step - loss: 0.0482 - accuracy: 0.9846 - val_loss: 0.9062 - val_accuracy: 0.8312\n",
            "Epoch 41/50\n",
            "1563/1563 [==============================] - 11s 7ms/step - loss: 0.0503 - accuracy: 0.9834 - val_loss: 0.7685 - val_accuracy: 0.8479\n",
            "Epoch 42/50\n",
            "1563/1563 [==============================] - 11s 7ms/step - loss: 0.0433 - accuracy: 0.9867 - val_loss: 0.8583 - val_accuracy: 0.8416\n",
            "Epoch 43/50\n",
            "1563/1563 [==============================] - 11s 7ms/step - loss: 0.0441 - accuracy: 0.9851 - val_loss: 0.9017 - val_accuracy: 0.8455\n",
            "Epoch 44/50\n",
            "1563/1563 [==============================] - 11s 7ms/step - loss: 0.0466 - accuracy: 0.9852 - val_loss: 0.8530 - val_accuracy: 0.8293\n",
            "Epoch 45/50\n",
            "1563/1563 [==============================] - 11s 7ms/step - loss: 0.0457 - accuracy: 0.9856 - val_loss: 0.8181 - val_accuracy: 0.8349\n",
            "Epoch 46/50\n",
            "1563/1563 [==============================] - 11s 7ms/step - loss: 0.0432 - accuracy: 0.9863 - val_loss: 0.8683 - val_accuracy: 0.8409\n",
            "Epoch 47/50\n",
            "1563/1563 [==============================] - 11s 7ms/step - loss: 0.0415 - accuracy: 0.9870 - val_loss: 1.0147 - val_accuracy: 0.8255\n",
            "Epoch 48/50\n",
            "1563/1563 [==============================] - 11s 7ms/step - loss: 0.0436 - accuracy: 0.9858 - val_loss: 0.8644 - val_accuracy: 0.8382\n",
            "Epoch 49/50\n",
            "1563/1563 [==============================] - 11s 7ms/step - loss: 0.0384 - accuracy: 0.9874 - val_loss: 0.9579 - val_accuracy: 0.8378\n",
            "Epoch 50/50\n",
            "1563/1563 [==============================] - 11s 7ms/step - loss: 0.0452 - accuracy: 0.9859 - val_loss: 0.8793 - val_accuracy: 0.8407\n"
          ]
        }
      ]
    },
    {
      "cell_type": "code",
      "source": [
        "label = 'airplane automobile bird cat deerdog frog horseship truck'.split()\n",
        "image_number = 3444\n",
        "plt.imshow(x_test[image_number])\n",
        "a = np.array(x_test[image_number])\n",
        "p = a.reshape(1,32,32,3)\n",
        "predicted_label = label[model.predict(p).argmax()]\n",
        "original_label = label[y_test[image_number]]\n",
        "\n",
        "print(\"Original label is {} and predicted label is {}\".format(original_label, predicted_label))"
      ],
      "metadata": {
        "colab": {
          "base_uri": "https://localhost:8080/",
          "height": 283
        },
        "id": "5iZyvG599-UD",
        "outputId": "e4d25dd4-85ee-4b11-f8aa-28cf078712a9"
      },
      "execution_count": 11,
      "outputs": [
        {
          "output_type": "stream",
          "name": "stdout",
          "text": [
            "Original label is airplane and predicted label is airplane\n"
          ]
        },
        {
          "output_type": "display_data",
          "data": {
            "text/plain": [
              "<Figure size 432x288 with 1 Axes>"
            ],
            "image/png": "[encoded data removed]"
          },
          "metadata": {
            "needs_background": "light"
          }
        }
      ]
    },
    {
      "cell_type": "code",
      "source": [
        "score = model.evaluate(x_test,y_test,verbose=0)"
      ],
      "metadata": {
        "id": "BP2Zb_K9GcFP"
      },
      "execution_count": 12,
      "outputs": []
    },
    {
      "cell_type": "code",
      "source": [
        "print(score[0])\n",
        "print(score[1])"
      ],
      "metadata": {
        "colab": {
          "base_uri": "https://localhost:8080/"
        },
        "id": "_QZs9jjvGv4F",
        "outputId": "7132b10d-06b1-42a7-dc6e-a30cf5027ddd"
      },
      "execution_count": 13,
      "outputs": [
        {
          "output_type": "stream",
          "name": "stdout",
          "text": [
            "0.8792822957038879\n",
            "0.8406999707221985\n"
          ]
        }
      ]
    },
    {
      "cell_type": "code",
      "source": [
        ""
      ],
      "metadata": {
        "id": "a7p3YeHeGy2A"
      },
      "execution_count": null,
      "outputs": []
    }
  ]
}